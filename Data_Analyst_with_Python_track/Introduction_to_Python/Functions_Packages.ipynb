{
 "cells": [
  {
   "cell_type": "markdown",
   "metadata": {},
   "source": [
    "# An introduction to the basic concepts of Python."
   ]
  },
  {
   "cell_type": "markdown",
   "metadata": {},
   "source": [
    "## 2. Functions and Methods"
   ]
  },
  {
   "cell_type": "markdown",
   "metadata": {},
   "source": [
    "### What is function?\n",
    "Python functions are blocks of statements designed to perform specific tasks. The purpose is to consolidate commonly or repeatedly executed tasks into a function, allowing us to call the function with different inputs instead of writing the same code multiple times, thus enabling code reuse.\n",
    "\n",
    "### Why do we need to use function?\n",
    "1. Increase code readability and reusability\n",
    "\n",
    "### Type of functions\n",
    "1. Built-in library functions : example :- print(), type()\n",
    "2. User defined functions: for example writing a function to calculate the gcd of a number\n",
    "\n",
    "#### In case of built-in function we can use the help() to get the better understanding about that function, it opens up the documentation\n",
    "\n",
    "Example: help(round)\n",
    "\n",
    "`Help on built-in function round in module builtins:\n",
    "round(number, ndigits=None)\n",
    "Round a number to a given precision in decimal digits.\n",
    "The return value is an integer if ndigits is omitted or None.\n",
    "Otherwise the return value has the same type as the number. ndigits may be negative.`\n",
    "\n",
    "here round is the built-in function\n",
    "\n",
    "#### Create a function\n",
    "```python\n",
    "def function_name(parameters):\n",
    "    # Statements...\n",
    "```\n",
    "\n",
    "#### Calling a function\n",
    "`function_name(arguments)`"
   ]
  },
  {
   "cell_type": "code",
   "execution_count": 1,
   "metadata": {},
   "outputs": [
    {
     "name": "stdout",
     "output_type": "stream",
     "text": [
      "<class 'list'>\n",
      "4\n"
     ]
    }
   ],
   "source": [
    "#Examples\n",
    "'''Use print() in combination with type() to print out the type of var1.\n",
    "Use len() to get the length of the list var1. Wrap it in a print() call to directly print it out.\n",
    "Use int() to convert var2 to an integer. Store the output as out2.'''\n",
    "\n",
    "# Create variables var1 and var2\n",
    "var1 = [1, 2, 3, 4]\n",
    "var2 = True\n",
    "\n",
    "# Print out type of var1\n",
    "print(type(var1))\n",
    "\n",
    "# Print out length of var1\n",
    "print(len(var1))\n",
    "\n",
    "# Convert var2 to an integer: out2\n",
    "out2=int(var2)\n"
   ]
  },
  {
   "cell_type": "markdown",
   "metadata": {},
   "source": [
    "### What is methods?\n",
    "Functions inside a class is called as methods. It is associated with the class/object\n",
    "\n",
    "#### Creating method:\n",
    "```python\n",
    "class ClassName:\n",
    "def method_name(parameters):\n",
    "    #Statements..\n",
    "```\n",
    "#### Calling method in python:\n",
    "```python\n",
    "object_name.method_name(arguments)\n",
    "```\n",
    "example:\n",
    "```python\n",
    "addition1 = Addition() # Object Instantiation\n",
    "print(addition1.add(2, 3))\n",
    "```"
   ]
  },
  {
   "cell_type": "markdown",
   "metadata": {},
   "source": [
    "### Methods vs Functions in Python\n",
    "\n",
    "| **Functions**                                      | **Methods**                                                                 |\n",
    "|----------------------------------------------------|-----------------------------------------------------------------------------|\n",
    "| Functions are outside a class                      | Methods are created inside a class                                          |\n",
    "| Functions are not linked to anything               | Methods are linked with the classes they are created in                     |\n",
    "| Functions can be executed just by calling with its name | To execute methods, we need to use either an object name or class name and a dot operator |\n",
    "| Functions can have zero parameters                 | Methods should have a default parameter either `self` or `cls` to get the object’s or class’s address |\n",
    "| Functions cannot access or modify class attributes | Methods can access and modify class attributes                              |\n",
    "| Functions are independent of classes               | Methods are dependent on classes                                            |\n",
    "\n"
   ]
  }
 ],
 "metadata": {
  "kernelspec": {
   "display_name": "Python 3",
   "language": "python",
   "name": "python3"
  },
  "language_info": {
   "codemirror_mode": {
    "name": "ipython",
    "version": 3
   },
   "file_extension": ".py",
   "mimetype": "text/x-python",
   "name": "python",
   "nbconvert_exporter": "python",
   "pygments_lexer": "ipython3",
   "version": "3.11.4"
  }
 },
 "nbformat": 4,
 "nbformat_minor": 2
}
