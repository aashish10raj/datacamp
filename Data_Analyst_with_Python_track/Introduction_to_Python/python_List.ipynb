{
 "cells": [
  {
   "cell_type": "markdown",
   "metadata": {},
   "source": [
    "# An introduction to the basic concepts of Python."
   ]
  },
  {
   "cell_type": "markdown",
   "metadata": {},
   "source": [
    "## Python Lists"
   ]
  },
  {
   "cell_type": "markdown",
   "metadata": {},
   "source": [
    "### What is list in python?\n",
    "List is a collection of values, these values can be of different types.\n",
    "example: list = [\"a\", \"b\", 1, 2, 3.89]\n",
    "\n",
    "### Why do we need to use list?\n",
    "1. List can contain elements of different data type.\n",
    "2. It is dynamic in nature, means data can be added or removed from the list\n",
    "3. Even if we add or remove the elements the order of the other elements does not change in the List.\n",
    "4. It can hold duplicate values\n",
    "\n",
    "### Operations that can be performed on the List:\n",
    "1. Subsetting list\n",
    "2. Slicing\n",
    "3. Changing list elements\n",
    "4. Adding elements\n",
    "5. Removing elements"
   ]
  },
  {
   "cell_type": "markdown",
   "metadata": {},
   "source": [
    "#### 1. Create a list\n",
    "A list is a compound data type; you can group values together, like this:\n",
    "a = \"is\"\n",
    "b = \"nice\"\n",
    "my_list = [\"my\", \"list\", a, b]\n",
    "After measuring the height of your family, you decide to collect some information on the house you're living in.\n",
    "The areas of the different parts of your house are stored in separate variables in the exercise.\n",
    "\n",
    "##### Exercise: \n",
    "1. Create a list, areas, that contains the area of the hallway (hall), kitchen (kit), living room (liv), bedroom (bed) and bathroom (bath), in this order. Use the predefined variables. Print areas with the print() function."
   ]
  },
  {
   "cell_type": "code",
   "execution_count": 1,
   "metadata": {},
   "outputs": [
    {
     "name": "stdout",
     "output_type": "stream",
     "text": [
      "[11.25, 18.0, 20.0, 10.75, 9.5]\n"
     ]
    }
   ],
   "source": [
    "#Solution\n",
    "# area variables (in square meters)\n",
    "hall = 11.25\n",
    "kit = 18.0\n",
    "liv = 20.0\n",
    "bed = 10.75\n",
    "bath = 9.50\n",
    "\n",
    "# Create list areas\n",
    "areas = [hall, kit, liv, bed, bath]\n",
    "\n",
    "# Print areas\n",
    "print(areas)"
   ]
  },
  {
   "cell_type": "markdown",
   "metadata": {},
   "source": [
    "##### Exercise:\n",
    "2. Finish the code that creates the areas list. Build the list so that the list first contains the name of each room as a string and then its area. In other words, add the strings \"hallway\", \"kitchen\" and \"bedroom\" at the appropriate locations. Print areas again; is the printout more informative this time?"
   ]
  },
  {
   "cell_type": "code",
   "execution_count": 2,
   "metadata": {},
   "outputs": [
    {
     "name": "stdout",
     "output_type": "stream",
     "text": [
      "['hallway', 11.25, 'kitchen', 18.0, 'living room', 20.0, 'bedroom', 10.75, 'bathroom', 9.5]\n"
     ]
    }
   ],
   "source": [
    "# area variables (in square meters)\n",
    "hall = 11.25\n",
    "kit = 18.0\n",
    "liv = 20.0\n",
    "bed = 10.75\n",
    "bath = 9.50\n",
    "\n",
    "# Adapt list areas\n",
    "areas = [\"hallway\", hall, \"kitchen\", kit, \"living room\", liv, \"bedroom\", bed, \"bathroom\", bath]\n",
    "\n",
    "# Print areas\n",
    "print(areas)"
   ]
  },
  {
   "cell_type": "markdown",
   "metadata": {},
   "source": [
    "##### Exercise:\n",
    "3. Finish the list of lists so that it also contains the bedroom and bathroom data. Make sure you enter these in order! Print out house; does this way of structuring your data make more sense?"
   ]
  },
  {
   "cell_type": "code",
   "execution_count": 3,
   "metadata": {},
   "outputs": [
    {
     "name": "stdout",
     "output_type": "stream",
     "text": [
      "[['hallway', 11.25], ['kitchen', 18.0], ['living room', 20.0], ['bedroom', 10.75], ['bathroom', 9.5]]\n"
     ]
    }
   ],
   "source": [
    "# area variables (in square meters)\n",
    "hall = 11.25\n",
    "kit = 18.0\n",
    "liv = 20.0\n",
    "bed = 10.75\n",
    "bath = 9.50\n",
    "\n",
    "# house information as list of lists\n",
    "house = [[\"hallway\", hall],\n",
    "         [\"kitchen\", kit],\n",
    "         [\"living room\", liv],\n",
    "         [\"bedroom\", bed],\n",
    "         [\"bathroom\", bath]]\n",
    "\n",
    "# Print out house\n",
    "print(house)"
   ]
  },
  {
   "cell_type": "markdown",
   "metadata": {},
   "source": [
    "#### 2. Subsetting Lists\n",
    "##### Exercise:\n",
    "1. Print out the second element from the areas list \n",
    "   Subset and print out the last element of areas. Using a negative index makes sense here!\n",
    "   Select the number representing the area of the living room and print it out."
   ]
  },
  {
   "cell_type": "code",
   "execution_count": 4,
   "metadata": {},
   "outputs": [
    {
     "name": "stdout",
     "output_type": "stream",
     "text": [
      "11.25\n",
      "9.5\n",
      "20.0\n"
     ]
    }
   ],
   "source": [
    "# Create the areas list\n",
    "areas = [\"hallway\", 11.25, \"kitchen\", 18.0, \"living room\", 20.0, \"bedroom\", 10.75, \"bathroom\", 9.50]\n",
    "\n",
    "# Print out second element from areas\n",
    "print(areas[1])\n",
    "\n",
    "# Print out last element from areas\n",
    "print(areas[-1])\n",
    "\n",
    "# Print out the area of the living room\n",
    "print(areas[5])"
   ]
  },
  {
   "cell_type": "markdown",
   "metadata": {},
   "source": [
    "#### 3. List Slicing\n",
    "\n",
    "selecting multiple elements from your list. Use the following syntax:\n",
    "`my_list[start:end]`\n",
    "The start index will be included, while the end index is not. However, it's also possible not to specify these indexes. If you don't specify the start index, Python figures out that you want to start your slice at the beginning of your list.\n",
    "\n",
    "##### Exercise:\n",
    "    1. Use slicing to create a list, downstairs, that contains the first 6 elements of areas.\n",
    "       Create upstairs, as the last 4 elements of areas. This time, simplify the slicing by omitting the end index.\n",
    "       Print both downstairs and upstairs using print()."
   ]
  },
  {
   "cell_type": "code",
   "execution_count": 5,
   "metadata": {},
   "outputs": [
    {
     "name": "stdout",
     "output_type": "stream",
     "text": [
      "['hallway', 11.25, 'kitchen', 18.0, 'living room', 20.0]\n",
      "['bedroom', 10.75, 'bathroom', 9.5]\n"
     ]
    }
   ],
   "source": [
    "# Create the areas list\n",
    "areas = [\"hallway\", 11.25, \"kitchen\", 18.0, \"living room\", 20.0, \"bedroom\", 10.75, \"bathroom\", 9.50]\n",
    "\n",
    "# Use slicing to create downstairs\n",
    "downstairs=areas[0:6]\n",
    "\n",
    "# Use slicing to create upstairs\n",
    "upstairs=areas[-4:]\n",
    "\n",
    "# Print out downstairs and upstairs\n",
    "print(downstairs)\n",
    "print(upstairs)"
   ]
  },
  {
   "cell_type": "markdown",
   "metadata": {},
   "source": [
    "#### 4. Replace List Elements\n",
    "##### Exercise:\n",
    "    1. Update the area of the bathroom to be 10.50 square meters instead of 9.50 using negative indexing.\n",
    "       Make the areas list more trendy! Change \"living room\" to \"chill zone\". Don't use negative indexing this time."
   ]
  },
  {
   "cell_type": "code",
   "execution_count": 6,
   "metadata": {},
   "outputs": [],
   "source": [
    "# Create the areas list\n",
    "areas = [\"hallway\", 11.25, \"kitchen\", 18.0, \"living room\", 20.0, \"bedroom\", 10.75, \"bathroom\", 9.50]\n",
    "\n",
    "# Correct the bathroom area\n",
    "areas[-1]=10.50\n",
    "\n",
    "# Change \"living room\" to \"chill zone\"\n",
    "areas[-6]=\"chill zone\""
   ]
  },
  {
   "cell_type": "markdown",
   "metadata": {},
   "source": [
    "#### 5. Extend a list\n",
    "##### Exercise:\n",
    "    1. Use the + operator to paste the list [\"poolhouse\", 24.5] to the end of the areas list. Store the resulting list   as areas_1.\n",
    "    Further extend areas_1 by adding data on your garage. Add the string \"garage\" and float 15.45. Name the resulting list areas_2."
   ]
  },
  {
   "cell_type": "code",
   "execution_count": 7,
   "metadata": {},
   "outputs": [],
   "source": [
    "# Create the areas list and make some changes\n",
    "areas = [\"hallway\", 11.25, \"kitchen\", 18.0, \"chill zone\", 20.0,\n",
    "         \"bedroom\", 10.75, \"bathroom\", 10.50]\n",
    "\n",
    "# Add poolhouse data to areas, new list is areas_1\n",
    "areas_1=areas+[\"poolhouse\", 24.5]\n",
    "\n",
    "# Add garage data to areas_1, new list is areas_2\n",
    "areas_2=areas_1+[\"garage\", 15.45]"
   ]
  },
  {
   "cell_type": "markdown",
   "metadata": {},
   "source": [
    "#### 6. Delete list elements\n",
    "##### Exercise:\n",
    "1. Delete the string and float for the \"poolhouse\" from your areas list.\n",
    "Print the updated areas list."
   ]
  },
  {
   "cell_type": "code",
   "execution_count": 8,
   "metadata": {},
   "outputs": [
    {
     "name": "stdout",
     "output_type": "stream",
     "text": [
      "['hallway', 11.25, 'kitchen', 18.0, 'chill zone', 20.0, 'bedroom', 10.75, 'bathroom', 10.5]\n"
     ]
    }
   ],
   "source": [
    "areas = [\"hallway\", 11.25, \"kitchen\", 18.0, \"chill zone\", 20.0,\"bedroom\", 10.75, \"bathroom\", 10.50, \"poolhouse\", 24.5]\n",
    "del areas[-2]\n",
    "del areas[-1]\n",
    "\n",
    "print(areas)"
   ]
  }
 ],
 "metadata": {
  "kernelspec": {
   "display_name": "Python 3",
   "language": "python",
   "name": "python3"
  },
  "language_info": {
   "codemirror_mode": {
    "name": "ipython",
    "version": 3
   },
   "file_extension": ".py",
   "mimetype": "text/x-python",
   "name": "python",
   "nbconvert_exporter": "python",
   "pygments_lexer": "ipython3",
   "version": "3.9.6"
  }
 },
 "nbformat": 4,
 "nbformat_minor": 2
}
